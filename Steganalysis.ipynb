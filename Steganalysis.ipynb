{
 "cells": [
  {
   "cell_type": "markdown",
   "id": "b1c8cc40",
   "metadata": {},
   "source": [
    "# Import required libraries"
   ]
  },
  {
   "cell_type": "code",
   "execution_count": 16,
   "id": "f9812951",
   "metadata": {},
   "outputs": [],
   "source": [
    "# For numerical computations\n",
    "import numpy as np\n",
    "import pandas as pd"
   ]
  },
  {
   "cell_type": "code",
   "execution_count": 17,
   "id": "60585c48",
   "metadata": {},
   "outputs": [],
   "source": [
    "# For plotting graphs\n",
    "import seaborn as sns\n",
    "import matplotlib.pyplot as plt\n",
    "%matplotlib inline"
   ]
  },
  {
   "cell_type": "code",
   "execution_count": 18,
   "id": "83bedbb4",
   "metadata": {},
   "outputs": [],
   "source": [
    "import os\n",
    "os.environ['CUDA_VISIBLE_DEVICES'] =\"0\"\n",
    "os.environ['TF_CPP_MIN_LOG_LEVEL'] = '3' "
   ]
  },
  {
   "cell_type": "code",
   "execution_count": 19,
   "id": "91bd232e",
   "metadata": {},
   "outputs": [],
   "source": [
    "# Other required libraries\n",
    "import tensorflow as tf\n",
    "from keras.preprocessing.image import ImageDataGenerator\n",
    "from sklearn.metrics import confusion_matrix, classification_report"
   ]
  },
  {
   "cell_type": "markdown",
   "id": "78a5e0d9",
   "metadata": {},
   "source": [
    "# Data Preprocessing"
   ]
  },
  {
   "cell_type": "code",
   "execution_count": 22,
   "id": "148cd986",
   "metadata": {},
   "outputs": [
    {
     "name": "stdout",
     "output_type": "stream",
     "text": [
      "Found 9890 images belonging to 3 classes.\n"
     ]
    }
   ],
   "source": [
    "training_datagen = ImageDataGenerator(\n",
    "    rescale=1./255, # feature scaling to each pixel (val / 255)\n",
    "    shear_range=0.2,\n",
    "    zoom_range=0.2,\n",
    "    horizontal_flip=True\n",
    ")\n",
    "\n",
    "training_set = training_datagen.flow_from_directory(\n",
    "    './Dataset/train/', # directory / path to the training dataset\n",
    "    target_size=(32, 32), # final size of the image which will be fit to the Neural Network\n",
    "    batch_size=32, # no. of images in each batch\n",
    "    class_mode='categorical' # binary or categorical\n",
    ")"
   ]
  },
  {
   "cell_type": "markdown",
   "id": "d00a9dc6",
   "metadata": {},
   "source": [
    "# Preprocessing the test dataset"
   ]
  },
  {
   "cell_type": "code",
   "execution_count": 21,
   "id": "42368402",
   "metadata": {},
   "outputs": [
    {
     "name": "stdout",
     "output_type": "stream",
     "text": [
      "Found 5033 images belonging to 3 classes.\n"
     ]
    }
   ],
   "source": [
    "test_datagen = ImageDataGenerator(rescale=1./255)\n",
    "\n",
    "test_set = test_datagen.flow_from_directory(\n",
    "    './Dataset/test/', # directory / path to the training dataset\n",
    "    target_size=(32, 32), # final size of the image which will be fit to the Neural Network\n",
    "    batch_size=32, # no. of images in each batch\n",
    "    class_mode='categorical' # binary or categorical\n",
    ")"
   ]
  },
  {
   "cell_type": "markdown",
   "id": "35b2204c",
   "metadata": {},
   "source": [
    "# Build the CNN model"
   ]
  },
  {
   "cell_type": "code",
   "execution_count": 23,
   "id": "45ef76e7",
   "metadata": {},
   "outputs": [],
   "source": [
    "cnn = tf.keras.models.Sequential()"
   ]
  },
  {
   "cell_type": "code",
   "execution_count": 24,
   "id": "d29ab7bc",
   "metadata": {},
   "outputs": [],
   "source": [
    "# Add convolutional layer\n",
    "cnn.add(\n",
    "    tf.keras.layers.Conv2D(\n",
    "        filters=32, #no. of feature detectors\n",
    "        kernel_size=3, # size of the feature detector\n",
    "        input_shape=[32,32, 3], # 3 -> rgb\n",
    "        activation='relu'\n",
    "    )\n",
    ")"
   ]
  },
  {
   "cell_type": "code",
   "execution_count": 25,
   "id": "d121ebc6",
   "metadata": {},
   "outputs": [],
   "source": [
    "# Add a pooling layer\n",
    "cnn.add(\n",
    "    tf.keras.layers.MaxPool2D(\n",
    "        pool_size=(2, 2),\n",
    "        strides=2\n",
    "    )\n",
    ")"
   ]
  },
  {
   "cell_type": "code",
   "execution_count": 26,
   "id": "8c3d6e00",
   "metadata": {},
   "outputs": [],
   "source": [
    "# Add flattening layer\n",
    "cnn.add(\n",
    "    tf.keras.layers.Flatten()\n",
    ")"
   ]
  },
  {
   "cell_type": "code",
   "execution_count": 27,
   "id": "0169cfe4",
   "metadata": {},
   "outputs": [],
   "source": [
    "# Add a fully connected layer\n",
    "cnn.add(\n",
    "    tf.keras.layers.Dense(\n",
    "        units=32,\n",
    "        activation='relu'\n",
    "    )\n",
    ")"
   ]
  },
  {
   "cell_type": "code",
   "execution_count": 28,
   "id": "16a26a47",
   "metadata": {},
   "outputs": [],
   "source": [
    "# Output layer\n",
    "cnn.add(\n",
    "    tf.keras.layers.Dense(\n",
    "        units=3,\n",
    "        activation='sigmoid'\n",
    "    )\n",
    ")"
   ]
  },
  {
   "cell_type": "code",
   "execution_count": 29,
   "id": "3afd39c6",
   "metadata": {},
   "outputs": [],
   "source": [
    "# Training the model\n",
    "cnn.compile(optimizer='adam', loss='categorical_crossentropy', metrics=['accuracy'])"
   ]
  },
  {
   "cell_type": "code",
   "execution_count": 30,
   "id": "45460ec7",
   "metadata": {},
   "outputs": [
    {
     "name": "stdout",
     "output_type": "stream",
     "text": [
      "Epoch 1/10\n",
      "310/310 [==============================] - 286s 920ms/step - loss: 1.0174 - accuracy: 0.4782 - val_loss: 0.8766 - val_accuracy: 0.5647\n",
      "Epoch 2/10\n",
      "310/310 [==============================] - 284s 918ms/step - loss: 0.9009 - accuracy: 0.5156 - val_loss: 0.9585 - val_accuracy: 0.4878\n",
      "Epoch 3/10\n",
      "310/310 [==============================] - 288s 931ms/step - loss: 0.8751 - accuracy: 0.5385 - val_loss: 0.8760 - val_accuracy: 0.5909\n",
      "Epoch 4/10\n",
      "310/310 [==============================] - 282s 912ms/step - loss: 0.8582 - accuracy: 0.5511 - val_loss: 0.9112 - val_accuracy: 0.5347\n",
      "Epoch 5/10\n",
      "310/310 [==============================] - 277s 895ms/step - loss: 0.8467 - accuracy: 0.5513 - val_loss: 0.8890 - val_accuracy: 0.5581\n",
      "Epoch 6/10\n",
      "310/310 [==============================] - 283s 913ms/step - loss: 0.8364 - accuracy: 0.5592 - val_loss: 0.8581 - val_accuracy: 0.5456\n",
      "Epoch 7/10\n",
      "310/310 [==============================] - 287s 928ms/step - loss: 0.8327 - accuracy: 0.5712 - val_loss: 0.8591 - val_accuracy: 0.5955\n",
      "Epoch 8/10\n",
      "310/310 [==============================] - 286s 925ms/step - loss: 0.8237 - accuracy: 0.5721 - val_loss: 0.9506 - val_accuracy: 0.4540\n",
      "Epoch 9/10\n",
      "310/310 [==============================] - 289s 934ms/step - loss: 0.8181 - accuracy: 0.5793 - val_loss: 0.9784 - val_accuracy: 0.4759\n",
      "Epoch 10/10\n",
      "310/310 [==============================] - 274s 883ms/step - loss: 0.8045 - accuracy: 0.5804 - val_loss: 0.9317 - val_accuracy: 0.4949\n"
     ]
    },
    {
     "data": {
      "text/plain": [
       "<keras.callbacks.History at 0x7f56f27c4d30>"
      ]
     },
     "execution_count": 30,
     "metadata": {},
     "output_type": "execute_result"
    }
   ],
   "source": [
    "cnn.fit(\n",
    "    x=training_set,\n",
    "    y=None,\n",
    "    batch_size=None,\n",
    "    epochs=10,\n",
    "    verbose='auto',\n",
    "    callbacks=None,\n",
    "    validation_split=0.0,\n",
    "    validation_data=test_set,\n",
    "    shuffle=True,\n",
    "    class_weight=None,\n",
    "    sample_weight=None,\n",
    "    initial_epoch=0,\n",
    "    steps_per_epoch=None,\n",
    "    validation_steps=None,\n",
    "    validation_batch_size=None,\n",
    "    validation_freq=1,\n",
    "    max_queue_size=10,\n",
    "    workers=1,\n",
    "    use_multiprocessing=False,\n",
    ")"
   ]
  },
  {
   "cell_type": "code",
   "execution_count": 31,
   "id": "99847fd3",
   "metadata": {},
   "outputs": [],
   "source": [
    "loss_df = pd.DataFrame(cnn.history.history)"
   ]
  },
  {
   "cell_type": "code",
   "execution_count": 16,
   "id": "b442553b",
   "metadata": {},
   "outputs": [],
   "source": [
    "pd1 = loss_df[['loss', 'accuracy']]\n",
    "pd2 = loss_df[['val_loss', 'val_accuracy']]"
   ]
  },
  {
   "cell_type": "code",
   "execution_count": 17,
   "id": "57211b40",
   "metadata": {},
   "outputs": [
    {
     "data": {
      "text/plain": [
       "<Axes: >"
      ]
     },
     "execution_count": 17,
     "metadata": {},
     "output_type": "execute_result"
    },
    {
     "data": {
      "image/png": "[encoded data removed]",
      "text/plain": [
       "<Figure size 640x480 with 1 Axes>"
      ]
     },
     "metadata": {},
     "output_type": "display_data"
    }
   ],
   "source": [
    "pd1.plot()"
   ]
  },
  {
   "cell_type": "code",
   "execution_count": 15,
   "id": "a3dec3ff",
   "metadata": {},
   "outputs": [],
   "source": [
    "# pd2.plot() #validation loss"
   ]
  },
  {
   "cell_type": "markdown",
   "id": "f180f690",
   "metadata": {},
   "source": [
    "# Model evaluation"
   ]
  },
  {
   "cell_type": "code",
   "execution_count": 32,
   "id": "79211635",
   "metadata": {},
   "outputs": [],
   "source": [
    "from tensorflow.keras.utils import load_img, img_to_array"
   ]
  },
  {
   "cell_type": "code",
   "execution_count": 34,
   "id": "ebdd6db7",
   "metadata": {},
   "outputs": [],
   "source": [
    "\n",
    "test_image = load_img('./Dataset/test/lsb/2552.png', target_size=(64, 64))\n",
    "\n",
    "# convert the image into an array\n",
    "test_image = img_to_array(test_image) # image should be in a batch\n",
    "test_image = np.expand_dims(test_image, axis=0)"
   ]
  },
  {
   "cell_type": "code",
   "execution_count": 35,
   "id": "8b242dfd",
   "metadata": {
    "scrolled": true
   },
   "outputs": [
    {
     "name": "stdout",
     "output_type": "stream",
     "text": [
      "1/1 [==============================] - 0s 106ms/step\n",
      "{'cover': 0, 'lsb': 1, 'stego': 2}\n",
      "[[0.3286602 0.8073955 0.311584 ]]\n"
     ]
    }
   ],
   "source": [
    "result = cnn.predict(test_image/255.0)\n",
    "print(training_set.class_indices)\n",
    "print(result)\n",
    "\n",
    "# if result[0][0] > 0.5:\n",
    "#     print(\"Prediction: Cover\")\n",
    "# else:\n",
    "#     print(\"Prediction: Stego\")"
   ]
  },
  {
   "cell_type": "code",
   "execution_count": 36,
   "id": "6c7f76a9",
   "metadata": {},
   "outputs": [],
   "source": [
    "cnn.save('model.h5')"
   ]
  },
  {
   "cell_type": "code",
   "execution_count": 43,
   "id": "6aa6c2a9",
   "metadata": {},
   "outputs": [],
   "source": [
    "def predict(path):\n",
    "    class_dict = {0: \"Cover\", 1 : \"LSB\", 2 : \"Steganoraphic\"}\n",
    "    test_image = load_img(path, target_size=(64, 64))\n",
    "\n",
    "    # convert the image into an array\n",
    "    test_image = img_to_array(test_image) # image should be in a batch\n",
    "    test_image = np.expand_dims(test_image, axis=0)\n",
    "    result = cnn.predict(test_image/255.0)\n",
    "    print(class_dict[np.argmax(result)])"
   ]
  },
  {
   "cell_type": "code",
   "execution_count": 44,
   "id": "d1b010ee",
   "metadata": {},
   "outputs": [
    {
     "name": "stdout",
     "output_type": "stream",
     "text": [
      "1/1 [==============================] - 0s 19ms/step\n",
      "Steganoraphic\n"
     ]
    }
   ],
   "source": [
    "predict('./Dataset/extra_stego/048902.jpg')"
   ]
  }
 ],
 "metadata": {
  "kernelspec": {
   "display_name": "Python 3 (ipykernel)",
   "language": "python",
   "name": "python3"
  },
  "language_info": {
   "codemirror_mode": {
    "name": "ipython",
    "version": 3
   },
   "file_extension": ".py",
   "mimetype": "text/x-python",
   "name": "python",
   "nbconvert_exporter": "python",
   "pygments_lexer": "ipython3",
   "version": "3.9.16"
  }
 },
 "nbformat": 4,
 "nbformat_minor": 5
}
